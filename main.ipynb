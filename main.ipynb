{
 "cells": [
  {
   "cell_type": "code",
   "execution_count": 146,
   "metadata": {},
   "outputs": [],
   "source": [
    "#!pip install pybboxes\n",
    "#!pip install ultralytics"
   ]
  },
  {
   "cell_type": "code",
   "execution_count": 147,
   "metadata": {},
   "outputs": [],
   "source": [
    "import os\n",
    "import glob\n",
    "import cv2\n",
    "import pybboxes as pbx\n",
    "from ultralytics import YOLO"
   ]
  },
  {
   "cell_type": "code",
   "execution_count": 148,
   "metadata": {},
   "outputs": [],
   "source": [
    "det_model=YOLO(\"yolo.pt\")#https://docs.ultralytics.com/models/yolov8/#performance-metrics\""
   ]
  },
  {
   "cell_type": "code",
   "execution_count": 149,
   "metadata": {},
   "outputs": [
    {
     "name": "stdout",
     "output_type": "stream",
     "text": [
      "Model summary: 365 layers, 43631382 parameters, 0 gradients, 165.4 GFLOPs\n"
     ]
    },
    {
     "data": {
      "text/plain": [
       "(365, 43631382, 0, 165.40738559999997)"
      ]
     },
     "execution_count": 149,
     "metadata": {},
     "output_type": "execute_result"
    }
   ],
   "source": [
    "det_model.info()"
   ]
  },
  {
   "cell_type": "code",
   "execution_count": 150,
   "metadata": {},
   "outputs": [
    {
     "name": "stdout",
     "output_type": "stream",
     "text": [
      "\n",
      "image 1/1 c:\\Users\\Raikibul Hasan\\Documents\\GitHub\\LF_Anonymization\\orginal_images\\000000190.png: 704x1088 1 license, 3976.0ms\n",
      "Speed: 16.0ms preprocess, 3976.0ms inference, 2.0ms postprocess per image at shape (1, 3, 704, 1088)\n"
     ]
    }
   ],
   "source": [
    "results = det_model('./orginal_images/000000190.png')"
   ]
  },
  {
   "cell_type": "code",
   "execution_count": 151,
   "metadata": {},
   "outputs": [
    {
     "name": "stdout",
     "output_type": "stream",
     "text": [
      "\n",
      "image 1/2 c:\\Users\\Raikibul Hasan\\Documents\\GitHub\\LF_Anonymization\\orginal_images\\000000190.png: 704x1088 1 license, 3312.8ms\n",
      "image 2/2 c:\\Users\\Raikibul Hasan\\Documents\\GitHub\\LF_Anonymization\\orginal_images\\000009372.png: 704x1088 1 license, 3035.6ms\n",
      "Speed: 14.5ms preprocess, 3174.2ms inference, 3.0ms postprocess per image at shape (1, 3, 704, 1088)\n",
      "Results saved to \u001b[1mobject\\pred\u001b[0m\n",
      "2 labels saved to object\\pred\\labels\n"
     ]
    },
    {
     "data": {
      "text/plain": [
       "[ultralytics.engine.results.Results object with attributes:\n",
       " \n",
       " boxes: ultralytics.engine.results.Boxes object\n",
       " keypoints: None\n",
       " masks: None\n",
       " names: {0: 'license', 1: 'face'}\n",
       " orig_img: array([[[198, 178, 147],\n",
       "         [198, 178, 147],\n",
       "         [199, 179, 148],\n",
       "         ...,\n",
       "         [149, 154, 163],\n",
       "         [151, 156, 165],\n",
       "         [155, 160, 169]],\n",
       " \n",
       "        [[201, 181, 150],\n",
       "         [201, 181, 150],\n",
       "         [201, 181, 150],\n",
       "         ...,\n",
       "         [150, 155, 164],\n",
       "         [155, 160, 169],\n",
       "         [161, 166, 175]],\n",
       " \n",
       "        [[204, 183, 155],\n",
       "         [204, 183, 155],\n",
       "         [203, 183, 152],\n",
       "         ...,\n",
       "         [161, 163, 173],\n",
       "         [156, 159, 167],\n",
       "         [151, 154, 162]],\n",
       " \n",
       "        ...,\n",
       " \n",
       "        [[100, 111, 143],\n",
       "         [ 99, 110, 142],\n",
       "         [ 98, 109, 141],\n",
       "         ...,\n",
       "         [ 59,  99, 127],\n",
       "         [ 58,  98, 127],\n",
       "         [ 57,  99, 128]],\n",
       " \n",
       "        [[ 98, 111, 143],\n",
       "         [ 97, 110, 142],\n",
       "         [ 96, 109, 141],\n",
       "         ...,\n",
       "         [ 60, 100, 128],\n",
       "         [ 58,  98, 127],\n",
       "         [ 58, 100, 129]],\n",
       " \n",
       "        [[ 99, 112, 144],\n",
       "         [ 98, 111, 143],\n",
       "         [ 95, 110, 142],\n",
       "         ...,\n",
       "         [ 60, 100, 128],\n",
       "         [ 58,  98, 127],\n",
       "         [ 58, 100, 129]]], dtype=uint8)\n",
       " orig_shape: (1208, 1920)\n",
       " path: 'c:\\\\Users\\\\Raikibul Hasan\\\\Documents\\\\GitHub\\\\LF_Anonymization\\\\orginal_images\\\\000000190.png'\n",
       " probs: None\n",
       " save_dir: 'object\\\\pred'\n",
       " speed: {'preprocess': 16.01266860961914, 'inference': 3312.8182888031006, 'postprocess': 1.9977092742919922},\n",
       " ultralytics.engine.results.Results object with attributes:\n",
       " \n",
       " boxes: ultralytics.engine.results.Boxes object\n",
       " keypoints: None\n",
       " masks: None\n",
       " names: {0: 'license', 1: 'face'}\n",
       " orig_img: array([[[231, 231, 225],\n",
       "         [231, 231, 225],\n",
       "         [232, 232, 226],\n",
       "         ...,\n",
       "         [234, 239, 230],\n",
       "         [240, 244, 233],\n",
       "         [244, 248, 237]],\n",
       " \n",
       "        [[231, 231, 225],\n",
       "         [231, 231, 225],\n",
       "         [232, 232, 226],\n",
       "         ...,\n",
       "         [233, 238, 229],\n",
       "         [239, 243, 232],\n",
       "         [244, 248, 237]],\n",
       " \n",
       "        [[231, 231, 225],\n",
       "         [231, 231, 225],\n",
       "         [232, 232, 226],\n",
       "         ...,\n",
       "         [232, 237, 228],\n",
       "         [238, 241, 232],\n",
       "         [243, 246, 237]],\n",
       " \n",
       "        ...,\n",
       " \n",
       "        [[ 63,  63,  75],\n",
       "         [ 63,  63,  75],\n",
       "         [ 64,  64,  76],\n",
       "         ...,\n",
       "         [110, 132, 157],\n",
       "         [115, 135, 160],\n",
       "         [118, 140, 165]],\n",
       " \n",
       "        [[ 63,  63,  75],\n",
       "         [ 63,  63,  75],\n",
       "         [ 64,  64,  76],\n",
       "         ...,\n",
       "         [111, 135, 157],\n",
       "         [114, 137, 159],\n",
       "         [119, 143, 165]],\n",
       " \n",
       "        [[ 63,  63,  75],\n",
       "         [ 64,  64,  76],\n",
       "         [ 64,  64,  76],\n",
       "         ...,\n",
       "         [114, 138, 160],\n",
       "         [117, 141, 163],\n",
       "         [122, 146, 168]]], dtype=uint8)\n",
       " orig_shape: (1208, 1920)\n",
       " path: 'c:\\\\Users\\\\Raikibul Hasan\\\\Documents\\\\GitHub\\\\LF_Anonymization\\\\orginal_images\\\\000009372.png'\n",
       " probs: None\n",
       " save_dir: 'object\\\\pred'\n",
       " speed: {'preprocess': 13.023138046264648, 'inference': 3035.553455352783, 'postprocess': 4.010438919067383}]"
      ]
     },
     "execution_count": 151,
     "metadata": {},
     "output_type": "execute_result"
    }
   ],
   "source": [
    "det_model(source='orginal_images/',\n",
    "            save=False,\n",
    "            save_txt=True,\n",
    "            conf=0.1,\n",
    "            device='cpu',\n",
    "            project=\"object\",\n",
    "            name=\"pred\")\n"
   ]
  },
  {
   "cell_type": "code",
   "execution_count": 152,
   "metadata": {},
   "outputs": [],
   "source": [
    "images = sorted(glob.glob(\"orginal_images/\"+\"/*\"))\n",
    "os.mkdir(\"annot_txt\")\n",
    "\n",
    "text_dir=f'./object/pred/labels/'\n",
    "\n",
    "try:\n",
    "    for file in os.listdir(text_dir):\n",
    "        if (file.endswith('.txt')):\n",
    "            #frame_num = int(file.replace(\".txt\",\"\").split(\"_\")[1])\n",
    "            with open(text_dir+file, 'r') as fin:\n",
    "                for line in fin.readlines():\n",
    "                    line = [float(item) for item in line.split()[1:]]\n",
    "                    line = pbx.convert_bbox(line, from_type=\"yolo\", to_type=\"voc\", image_size=(1920, 1208))\n",
    "                    data_string = \" \".join(str(num) for num in line)\n",
    "                    with open(f\"annot_txt/{os.path.basename(file)}\", \"a\") as f:\n",
    "                        f.write(data_string+\"\\n\")\n",
    "except:\n",
    "    print(f'{os.path.basename(file)} has no detected objects.')\n"
   ]
  },
  {
   "cell_type": "code",
   "execution_count": 153,
   "metadata": {},
   "outputs": [],
   "source": [
    "def anonymize(image, regions):\n",
    "    \"\"\"\n",
    "    Blurs the image, given the x1,y1,x2,y2 cordinates using Gaussian Blur.\n",
    "    \"\"\"\n",
    "    for region in regions:\n",
    "        x1,y1,x2,y2 = region\n",
    "        x1, y1, x2, y2 = round(x1), round(y1), round(x2), round(y2)\n",
    "        roi = image[y1:y2, x1:x2]\n",
    "        blurred_roi = cv2.GaussianBlur(roi, (31, 31), 0)\n",
    "        image[y1:y2, x1:x2] = blurred_roi\n",
    "    return image\n",
    "txt_folder = 'annot_txt/'\n",
    "image_folder = 'orginal_images/'\n",
    "output_folder = 'blur_image/'"
   ]
  },
  {
   "cell_type": "code",
   "execution_count": 154,
   "metadata": {},
   "outputs": [],
   "source": [
    "# Create the output folder if it doesn't exist\n",
    "if not os.path.exists(output_folder):\n",
    "    os.makedirs(output_folder)\n",
    "\n",
    "# List all text files in the 'dir' folder\n",
    "txt_files = [f for f in os.listdir(txt_folder) if f.endswith('.txt')]\n",
    "\n",
    "for txt_file in txt_files:\n",
    "    # Read the text file containing bounding box information\n",
    "    with open(os.path.join(txt_folder, txt_file), 'r') as f:\n",
    "        lines = f.readlines()\n",
    "\n",
    "    # Extract bounding box coordinates from the txt file\n",
    "    bboxes = []\n",
    "    for line in lines:\n",
    "        values = line.strip().split()\n",
    "        x_min, y_min, x_max, y_max = map(int, values)  # Assuming VOC format with x_min, y_min, x_max, y_max\n",
    "        bboxes.append([x_min, y_min, x_max, y_max])\n",
    "\n",
    "    # Read the corresponding image\n",
    "    image_file = txt_file.replace('.txt', '.png')  # Assuming image files have .jpg extension\n",
    "    image_path = os.path.join(image_folder, image_file)\n",
    "    image = cv2.imread(image_path)\n",
    "\n",
    "    # Apply Gaussian blur to each bounding box region\n",
    "    for bbox in bboxes:\n",
    "        image = anonymize(image, bboxes)\n",
    "\n",
    "    # Save the blurred image to the output folder\n",
    "    output_file = txt_file.replace('.txt', '.png')\n",
    "    output_path = os.path.join(output_folder, output_file)\n",
    "    cv2.imwrite(output_path, image)"
   ]
  }
 ],
 "metadata": {
  "kernelspec": {
   "display_name": "Python 3",
   "language": "python",
   "name": "python3"
  },
  "language_info": {
   "codemirror_mode": {
    "name": "ipython",
    "version": 3
   },
   "file_extension": ".py",
   "mimetype": "text/x-python",
   "name": "python",
   "nbconvert_exporter": "python",
   "pygments_lexer": "ipython3",
   "version": "3.10.11"
  },
  "orig_nbformat": 4,
  "vscode": {
   "interpreter": {
    "hash": "011ad3ded0709021fb0132dfd74fcd0de864371b4c149a3b4f8c17fc2d46106a"
   }
  }
 },
 "nbformat": 4,
 "nbformat_minor": 2
}
