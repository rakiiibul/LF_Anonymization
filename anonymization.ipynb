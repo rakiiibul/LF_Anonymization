{
 "cells": [
  {
   "attachments": {},
   "cell_type": "markdown",
   "metadata": {},
   "source": [
    "### Edit only first notebook cell, Define input output folders as your reqirements,Run next two cell to get output."
   ]
  },
  {
   "cell_type": "code",
   "execution_count": 17,
   "metadata": {},
   "outputs": [],
   "source": [
    "#path of the folder\n",
    "# Edit the destination of input folder and output folder\n",
    "image_folder = 'orginal_images/'\n",
    "output_folder = 'blur_image/'\n",
    "#jpg, png,jpeg images\n",
    "# change according to your requirements\n",
    "input_image_format='.jpg'\n",
    "output_image_format='.jpg'\n",
    "#define the shape of orginal images\n",
    "width_output_images=2048\n",
    "height_output_images=1288"
   ]
  },
  {
   "cell_type": "code",
   "execution_count": null,
   "metadata": {},
   "outputs": [],
   "source": [
    "#!pip install pybboxes\n",
    "#!pip install ultralytics\n",
    "import os\n",
    "import glob\n",
    "import cv2\n",
    "import pybboxes as pbx\n",
    "from ultralytics import YOLO\n",
    "det_model=YOLO(\"yolo.pt\")#https://docs.ultralytics.com/models/yolov8/#performance-metrics\""
   ]
  },
  {
   "cell_type": "code",
   "execution_count": 18,
   "metadata": {},
   "outputs": [
    {
     "name": "stdout",
     "output_type": "stream",
     "text": [
      "\n",
      "image 1/1 c:\\Users\\Raikibul Hasan\\Documents\\GitHub\\LF_Anonymization\\orginal_images\\image2.jpg: 704x1088 17 licenses, 6 faces, 2759.5ms\n",
      "Speed: 17.0ms preprocess, 2759.5ms inference, 2.0ms postprocess per image at shape (1, 3, 704, 1088)\n",
      "Results saved to \u001b[1mobject\\pred\u001b[0m\n",
      "1 label saved to object\\pred\\labels\n",
      "Task Completed,HAppy coding:)\n"
     ]
    }
   ],
   "source": [
    "det_model(source=image_folder,\n",
    "            save=False,\n",
    "            save_txt=True,\n",
    "            conf=0.005,# normally set 0.1/ for more complex image set less than 0.1\n",
    "            device='cpu',\n",
    "            project=\"object\",\n",
    "            name=\"pred\")\n",
    "images = sorted(glob.glob(image_folder+\"/*\"))\n",
    "os.mkdir(\"annot_txt\")\n",
    "\n",
    "text_dir=f'./object/pred/labels/'\n",
    "\n",
    "try:\n",
    "    for file in os.listdir(text_dir):\n",
    "        if (file.endswith('.txt')):\n",
    "            #frame_num = int(file.replace(\".txt\",\"\").split(\"_\")[1])\n",
    "            with open(text_dir+file, 'r') as fin:\n",
    "                for line in fin.readlines():\n",
    "                    line = [float(item) for item in line.split()[1:]]\n",
    "                    line = pbx.convert_bbox(line, from_type=\"yolo\", to_type=\"voc\", image_size=(width_output_images, height_output_images))\n",
    "                    data_string = \" \".join(str(num) for num in line)\n",
    "                    with open(f\"annot_txt/{os.path.basename(file)}\", \"a\") as f:\n",
    "                        f.write(data_string+\"\\n\")\n",
    "except:\n",
    "    print(f'{os.path.basename(file)} has no detected objects.')\n",
    "def anonymize(image, regions):\n",
    "    \"\"\"\n",
    "    Blurs the image, given the x1,y1,x2,y2 cordinates using Gaussian Blur.\n",
    "    \"\"\"\n",
    "    for region in regions:\n",
    "        x1,y1,x2,y2 = region\n",
    "        x1, y1, x2, y2 = round(x1), round(y1), round(x2), round(y2)\n",
    "        roi = image[y1:y2, x1:x2]\n",
    "        blurred_roi = cv2.GaussianBlur(roi, (31, 31), 0)\n",
    "        image[y1:y2, x1:x2] = blurred_roi\n",
    "    return image\n",
    "txt_folder = 'annot_txt/'\n",
    "# Create the output folder if it doesn't exist\n",
    "#if not os.path.exists(output_folder):\n",
    "#    os.makedirs(output_folder)\n",
    "\n",
    "# List all text files in the 'dir' folder\n",
    "txt_files = [f for f in os.listdir(txt_folder) if f.endswith('.txt')]\n",
    "\n",
    "for txt_file in txt_files:\n",
    "    # Read the text file containing bounding box information\n",
    "    with open(os.path.join(txt_folder, txt_file), 'r') as f:\n",
    "        lines = f.readlines()\n",
    "\n",
    "    # Extract bounding box coordinates from the txt file\n",
    "    bboxes = []\n",
    "    for line in lines:\n",
    "        values = line.strip().split()\n",
    "        x_min, y_min, x_max, y_max = map(int, values)  # Assuming VOC format with x_min, y_min, x_max, y_max\n",
    "        bboxes.append([x_min, y_min, x_max, y_max])\n",
    "\n",
    "    # Read the corresponding image\n",
    "    image_file = txt_file.replace('.txt', input_image_format)  # Assuming image files have .png extension\n",
    "    image_path = os.path.join(image_folder, image_file)\n",
    "    image = cv2.imread(image_path)\n",
    "\n",
    "    # Apply Gaussian blur to each bounding box region\n",
    "    for bbox in bboxes:\n",
    "        image = anonymize(image, bboxes)\n",
    "\n",
    "    # Save the blurred image to the output folder\n",
    "    output_file = txt_file.replace('.txt', output_image_format)\n",
    "    output_path = os.path.join(output_folder, output_file)\n",
    "    cv2.imwrite(output_path, image)\n",
    "\n",
    "print(\"Task Completed,HAppy coding:)\")"
   ]
  }
 ],
 "metadata": {
  "kernelspec": {
   "display_name": "Python 3",
   "language": "python",
   "name": "python3"
  },
  "language_info": {
   "codemirror_mode": {
    "name": "ipython",
    "version": 3
   },
   "file_extension": ".py",
   "mimetype": "text/x-python",
   "name": "python",
   "nbconvert_exporter": "python",
   "pygments_lexer": "ipython3",
   "version": "3.10.11"
  },
  "orig_nbformat": 4,
  "vscode": {
   "interpreter": {
    "hash": "011ad3ded0709021fb0132dfd74fcd0de864371b4c149a3b4f8c17fc2d46106a"
   }
  }
 },
 "nbformat": 4,
 "nbformat_minor": 2
}
